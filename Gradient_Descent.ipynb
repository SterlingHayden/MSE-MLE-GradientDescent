{
 "cells": [
  {
   "cell_type": "markdown",
   "metadata": {},
   "source": [
    "# Gradient Descent, Regression, MLE and MSE\n",
    "Sterling Hayden"
   ]
  },
  {
   "cell_type": "markdown",
   "metadata": {},
   "source": [
    "## Parameter update rule for Simple Linear Regression using Gradient Descent"
   ]
  },
  {
   "cell_type": "markdown",
   "metadata": {},
   "source": [
    "\n",
    "y = b<sub>0</sub> + b<sub>1</sub>x<sub>1</sub> + b<sub>2</sub>x<sub>2</sub> + ... + b<sub>J</sub>x<sub>J</sub>  \n",
    "  \n",
    "  \n",
    "Where:\n",
    "- y is the predicted output (dependent variable).\n",
    "- x<sub>1</sub>, x<sub>2</sub>, ..., x<sub>J</sub> are the J input features (independent variables).\n",
    "- b<sub>0</sub> is the y-intercept.\n",
    "- b<sub>1</sub>, b<sub>2</sub>, ..., b<sub>J</sub> are the weights associated with each feature."
   ]
  },
  {
   "cell_type": "markdown",
   "metadata": {},
   "source": [
    "**Step 1:** Define MSE    \n",
    "MSE = 1/(2N) ∑<sub>i=1</sub><sup>N</sup> (y<sub>i</sub> - (b<sub>0</sub> + ∑<sub>j=1</sub><sup>J</sup> b<sub>j</sub> x<sub>ij</sub>)<sup>2</sup>  \n",
    "  \n",
    "Here:\n",
    "- N is the number of data points.\n",
    "- i indexes the data points.\n",
    "- j indexes the features."
   ]
  },
  {
   "cell_type": "markdown",
   "metadata": {},
   "source": [
    "**Step 2:** Partial derivatives of MSE  \n",
    "   \n",
    "For b<sub>0</sub>:  \n",
    "∂MSE/∂b<sub>0</sub> = (-1/N) Σ (y<sub>i</sub> - (b<sub>0</sub> + Σ b<sub>j</sub> x<sub>ij</sub>))  \n",
    "  \n",
    "For b<sub>j</sub>:  \n",
    "∂MSE/∂b<sub>j</sub> = (-1/N) Σ x<sub>ij</sub>(y<sub>i</sub> - (b<sub>0</sub> + Σ b<sub>j</sub> x<sub>ij</sub>))  \n"
   ]
  },
  {
   "cell_type": "markdown",
   "metadata": {},
   "source": [
    "**Step 3:** Update weights  \n",
    "b<sub>0</sub> <- b<sub>0</sub> - ∂MSE/∂b<sub>0</sub>  \n",
    "b<sub>j</sub> <- b<sub>j</sub> - ∂MSE/∂b<sub>j</sub>"
   ]
  },
  {
   "cell_type": "markdown",
   "metadata": {},
   "source": [
    "**Step 4:** Repeat steps 2 and 3 until convergence"
   ]
  },
  {
   "cell_type": "markdown",
   "metadata": {},
   "source": [
    "There are several libraries in Python that can perform linear regression, including gradient descent, and make it more convenient for us. One of the most commonly used libraries is scikit-learn. Here's how we can use scikit-learn to perform linear regression easily:"
   ]
  },
  {
   "cell_type": "code",
   "execution_count": 10,
   "metadata": {},
   "outputs": [
    {
     "name": "stdout",
     "output_type": "stream",
     "text": [
      "Intercept (b0): 3.9502139024683567\n",
      "Slope (b1): 2.7956623869503465\n",
      "Slope (b2): 1.9899783163480775\n",
      "Slope (b3): -1.3733845071909832\n"
     ]
    }
   ],
   "source": [
    "# imports for LR\n",
    "from sklearn.linear_model import LinearRegression\n",
    "import numpy as np\n",
    "\n",
    "#  gen data\n",
    "np.random.seed(0)\n",
    "X = 2 * np.random.rand(100, 3)\n",
    "y = 4 + 3*X[:, 0] + 2*X[:, 1] - 1.5*X[:, 2] + np.random.randn(100)\n",
    "\n",
    "# Create LR model\n",
    "model = LinearRegression()\n",
    "\n",
    "# Fit model\n",
    "model.fit(X, y)\n",
    "\n",
    "# Get weights\n",
    "intercept = model.intercept_\n",
    "coefficients = model.coef_\n",
    "\n",
    "print(\"Intercept (b0):\", intercept)\n",
    "print(\"Slope (b1):\", coefficients[0])\n",
    "print(\"Slope (b2):\", coefficients[1])\n",
    "print(\"Slope (b3):\", coefficients[2])\n"
   ]
  },
  {
   "cell_type": "markdown",
   "metadata": {},
   "source": [
    "## Parameter update rule for Logistic Regression using Gradient Descent"
   ]
  },
  {
   "cell_type": "code",
   "execution_count": null,
   "metadata": {},
   "outputs": [],
   "source": []
  },
  {
   "cell_type": "markdown",
   "metadata": {},
   "source": [
    "## Proof that MSE is a special case of MLE"
   ]
  },
  {
   "cell_type": "code",
   "execution_count": null,
   "metadata": {},
   "outputs": [],
   "source": []
  }
 ],
 "metadata": {
  "kernelspec": {
   "display_name": "base",
   "language": "python",
   "name": "python3"
  },
  "language_info": {
   "codemirror_mode": {
    "name": "ipython",
    "version": 3
   },
   "file_extension": ".py",
   "mimetype": "text/x-python",
   "name": "python",
   "nbconvert_exporter": "python",
   "pygments_lexer": "ipython3",
   "version": "3.9.12"
  }
 },
 "nbformat": 4,
 "nbformat_minor": 2
}
